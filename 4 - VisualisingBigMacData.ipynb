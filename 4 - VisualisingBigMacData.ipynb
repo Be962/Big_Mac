{
 "cells": [
  {
   "attachments": {},
   "cell_type": "markdown",
   "metadata": {},
   "source": [
    "# Visualising Big Mac Data\n",
    "Now that we know how to store, update and delete data in pandas, how do we more easily communicate this to people?\n",
    "\n",
    "## Matplotlib\n",
    "The matploblib module for python allows us to visualise data through a variety of plot styles that you would be familiar with. This is where we really start to look at **computer science** and start applying mathematics and science using technology.\n",
    "\n",
    "## Activities\n",
    "First we're going to import data from the *big_mac_update.csv* file we created previously into a dataframe. You'll need to create a plot using matplotlib which **compares** the cost of Big Macs across all 6 nations in **AUD**. You will need to select the plot type which best represents **comparison**. \n",
    "\n",
    "For assistance, you can look at *15 - Visualising Data with matplotlib* and can also look at [Matplotlib Plot Types](https://matplotlib.org/stable/plot_types/index)."
   ]
  },
  {
   "cell_type": "code",
   "execution_count": 18,
   "metadata": {},
   "outputs": [
    {
     "data": {
      "text/html": [
       "<div>\n",
       "<style scoped>\n",
       "    .dataframe tbody tr th:only-of-type {\n",
       "        vertical-align: middle;\n",
       "    }\n",
       "\n",
       "    .dataframe tbody tr th {\n",
       "        vertical-align: top;\n",
       "    }\n",
       "\n",
       "    .dataframe thead th {\n",
       "        text-align: right;\n",
       "    }\n",
       "</style>\n",
       "<table border=\"1\" class=\"dataframe\">\n",
       "  <thead>\n",
       "    <tr style=\"text-align: right;\">\n",
       "      <th></th>\n",
       "      <th>Country</th>\n",
       "      <th>Local</th>\n",
       "      <th>AUD</th>\n",
       "      <th>Date</th>\n",
       "    </tr>\n",
       "  </thead>\n",
       "  <tbody>\n",
       "    <tr>\n",
       "      <th>1</th>\n",
       "      <td>Japan</td>\n",
       "      <td>450.00</td>\n",
       "      <td>4.52</td>\n",
       "      <td>1/07/2023</td>\n",
       "    </tr>\n",
       "    <tr>\n",
       "      <th>2</th>\n",
       "      <td>New Zealand</td>\n",
       "      <td>8.10</td>\n",
       "      <td>6.50</td>\n",
       "      <td>1/07/2023</td>\n",
       "    </tr>\n",
       "    <tr>\n",
       "      <th>0</th>\n",
       "      <td>Britain</td>\n",
       "      <td>4.19</td>\n",
       "      <td>8.05</td>\n",
       "      <td>1/07/2023</td>\n",
       "    </tr>\n",
       "    <tr>\n",
       "      <th>3</th>\n",
       "      <td>United States</td>\n",
       "      <td>5.58</td>\n",
       "      <td>8.50</td>\n",
       "      <td>1/07/2023</td>\n",
       "    </tr>\n",
       "    <tr>\n",
       "      <th>4</th>\n",
       "      <td>France</td>\n",
       "      <td>4.19</td>\n",
       "      <td>9.41</td>\n",
       "      <td>1/07/2023</td>\n",
       "    </tr>\n",
       "  </tbody>\n",
       "</table>\n",
       "</div>"
      ],
      "text/plain": [
       "         Country   Local   AUD       Date\n",
       "1          Japan  450.00  4.52  1/07/2023\n",
       "2    New Zealand    8.10  6.50  1/07/2023\n",
       "0        Britain    4.19  8.05  1/07/2023\n",
       "3  United States    5.58  8.50  1/07/2023\n",
       "4         France    4.19  9.41  1/07/2023"
      ]
     },
     "execution_count": 18,
     "metadata": {},
     "output_type": "execute_result"
    },
    {
     "data": {
      "image/png": "[encoded data removed]",
      "text/plain": [
       "<Figure size 640x480 with 1 Axes>"
      ]
     },
     "metadata": {},
     "output_type": "display_data"
    }
   ],
   "source": [
    "import matplotlib.pyplot as plt\n",
    "import pandas as pd\n",
    "\n",
    "#Read in the big_mac_update dataset to big_mac_df DataFrame\n",
    "\n",
    "big_mac_df = pd.read_csv('data/big_mac_update.csv')\n",
    "big_mac_df = big_mac_df.sort_values(by='AUD')\n",
    "#Create the plot using big_mac_df\n",
    "big_mac_df.plot(kind='bar',\n",
    "                x='Country',\n",
    "                y='AUD',\n",
    "                title='Big Mac Prices (AUD)')\n",
    "big_mac_df\n",
    "#Show the plot\n"
   ]
  },
  {
   "attachments": {},
   "cell_type": "markdown",
   "metadata": {},
   "source": [
    "## Pandas and Statistics\n",
    "Pandas can also be used to make calculations. For instance, we can return the *mean* from a set of values.\n",
    "\n",
    "### Calculating the Mean\n",
    "For information on how to calculate averages, read through [What is Pandas Mean for a Certain Column](https://saturncloud.io/blog/what-is-pandas-mean-for-a-certain-column/)"
   ]
  },
  {
   "cell_type": "code",
   "execution_count": null,
   "metadata": {},
   "outputs": [],
   "source": [
    "#Calculate the mean and median price of a Big Mac in AUD and store them in separate variables\n",
    "\n",
    "\n",
    "\n",
    "#Print both clearly for users\n"
   ]
  }
 ],
 "metadata": {
  "kernelspec": {
   "display_name": "Python 3",
   "language": "python",
   "name": "python3"
  },
  "language_info": {
   "codemirror_mode": {
    "name": "ipython",
    "version": 3
   },
   "file_extension": ".py",
   "mimetype": "text/x-python",
   "name": "python",
   "nbconvert_exporter": "python",
   "pygments_lexer": "ipython3",
   "version": "3.12.8"
  }
 },
 "nbformat": 4,
 "nbformat_minor": 2
}
