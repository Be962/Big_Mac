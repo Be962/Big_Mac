{
 "cells": [
  {
   "attachments": {},
   "cell_type": "markdown",
   "metadata": {},
   "source": [
    "# Big Mac Data Omega\n",
    "## Your Task\n",
    "Now it's time to put it all together and complete an activity which demonstrates what you've learned so far. You may use several code windows if this helps.\n",
    "\n",
    "1) **Read** in the *big_mac_source_data_v2.csv* file and store it in a dataframe.\n",
    "\n",
    "2) **Remove** the *iso_a3*, *GDP_dollar* and *GDP_local* columns.\n",
    "\n",
    "3) **Remove** all rows **except** for *Australia*, *Britan*, *France*, *New Zealand* and *United States*. Hint: [Drop All Rows Except](https://www.statology.org/pandas-drop-all-rows-except/).\n",
    "\n",
    "4) **Create** a new column which calculates the **US dollar price** by multipling *local_price* by *dollar_ex* [How to mulitply two columns in Pandas](https://www.statology.org/pandas-multiply-two-columns/). If you get a warning due to setting a value on copy of a slice, use: \n",
    "\n",
    "    `name_of_your_dataframe.loc[:, 'yournewcolumnname'] = ...` \n",
    "\n",
    "5) **Calculate** the **mean** for each country in USD. You may need to first isolate each country [Select rows from Dataframe based on Column Values](https://sentry.io/answers/select-rows-from-a-python-pandas-dataframe-based-on-column-values/)\n",
    "\n",
    "6) Use **matplotlib** to plot a **comparison** of each country's average - look at [matplotlib Bars](https://www.w3schools.com/python/matplotlib_bars.asp)\n",
    "\n",
    "7) Do step 4 and 5 again for **median**.\n",
    "\n",
    "8) **Extension:** See if you can simplify step 5-7 into the minimum amount of code possible (use *for loops* and *functions* where possible)"
   ]
  },
  {
   "cell_type": "code",
   "execution_count": 18,
   "metadata": {},
   "outputs": [
    {
     "ename": "AttributeError",
     "evalue": "'str' object has no attribute 'round'",
     "output_type": "error",
     "traceback": [
      "\u001b[31m---------------------------------------------------------------------------\u001b[39m",
      "\u001b[31mAttributeError\u001b[39m                            Traceback (most recent call last)",
      "\u001b[36mCell\u001b[39m\u001b[36m \u001b[39m\u001b[32mIn[18]\u001b[39m\u001b[32m, line 8\u001b[39m\n\u001b[32m      6\u001b[39m df.head(\u001b[32m5\u001b[39m)\n\u001b[32m      7\u001b[39m df = df.query(\u001b[33m\"\u001b[39m\u001b[33mname == \u001b[39m\u001b[33m'\u001b[39m\u001b[33mAustralia\u001b[39m\u001b[33m'\u001b[39m\u001b[33m | name == \u001b[39m\u001b[33m'\u001b[39m\u001b[33mFrance\u001b[39m\u001b[33m'\u001b[39m\u001b[33m | name == \u001b[39m\u001b[33m'\u001b[39m\u001b[33mBritain\u001b[39m\u001b[33m'\u001b[39m\u001b[33m | name == \u001b[39m\u001b[33m'\u001b[39m\u001b[33mNew Zealand\u001b[39m\u001b[33m'\u001b[39m\u001b[33m | name == \u001b[39m\u001b[33m'\u001b[39m\u001b[33mUnited States\u001b[39m\u001b[33m'\u001b[39m\u001b[33m\"\u001b[39m)\n\u001b[32m----> \u001b[39m\u001b[32m8\u001b[39m df[\u001b[33;43m'\u001b[39;49m\u001b[33;43mUSD_price\u001b[39;49m\u001b[33;43m'\u001b[39;49m\u001b[43m.\u001b[49m\u001b[43mround\u001b[49m(\u001b[32m1\u001b[39m)] = df.local_price * df.dollar_ex\n\u001b[32m      9\u001b[39m df\n",
      "\u001b[31mAttributeError\u001b[39m: 'str' object has no attribute 'round'"
     ]
    }
   ],
   "source": [
    "import pandas as pd\n",
    "import matplotlib as plt\n",
    "\n",
    "df = pd.read_csv('data/big_mac_source_data_v2.csv')\n",
    "df = df.drop(columns=['iso_a3', 'GDP_dollar', 'GDP_local'])\n",
    "df.head(5)\n",
    "df = df.query(\"name == 'Australia' | name == 'France' | name == 'Britain' | name == 'New Zealand' | name == 'United States'\")\n",
    "df['USD_price'.round(1)] = df.local_price * df.dollar_ex\n",
    "df"
   ]
  },
  {
   "cell_type": "code",
   "execution_count": null,
   "metadata": {},
   "outputs": [],
   "source": []
  }
 ],
 "metadata": {
  "kernelspec": {
   "display_name": "Python 3",
   "language": "python",
   "name": "python3"
  },
  "language_info": {
   "codemirror_mode": {
    "name": "ipython",
    "version": 3
   },
   "file_extension": ".py",
   "mimetype": "text/x-python",
   "name": "python",
   "nbconvert_exporter": "python",
   "pygments_lexer": "ipython3",
   "version": "3.12.8"
  }
 },
 "nbformat": 4,
 "nbformat_minor": 2
}
